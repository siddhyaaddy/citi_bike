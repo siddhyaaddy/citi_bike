{
 "cells": [
  {
   "cell_type": "code",
   "execution_count": 15,
   "id": "eb0e5ef4-bb5b-48ed-9ec8-2cf40b60eebf",
   "metadata": {},
   "outputs": [],
   "source": [
    "%load_ext autoreload\n",
    "%autoreload 2"
   ]
  },
  {
   "cell_type": "code",
   "execution_count": 16,
   "id": "80db9034-557a-4c98-86c8-449cd6889430",
   "metadata": {},
   "outputs": [],
   "source": [
    "import sys\n",
    "import os\n",
    "\n",
    "# Add the parent directory to the Python path\n",
    "sys.path.append(os.path.abspath(os.path.join(os.getcwd(), \"..\")))\n",
    "import src.config as config"
   ]
  },
  {
   "cell_type": "code",
   "execution_count": 17,
   "id": "1f6003a6-aeef-49fb-bfbf-08e371470f61",
   "metadata": {},
   "outputs": [
    {
     "name": "stdout",
     "output_type": "stream",
     "text": [
      "Current UTC hour (ceiled): 2025-05-10 12:00:00+00:00\n"
     ]
    }
   ],
   "source": [
    "import src.config as config\n",
    "from src.inference import (\n",
    "    get_feature_store\n",
    ")\n",
    "\n",
    "from datetime import datetime, timezone, timedelta\n",
    "\n",
    "def get_current_utc_hour_ceiled():\n",
    "    \"\"\"Get current UTC time ceiled to the next hour\"\"\"\n",
    "    current = datetime.now(timezone.utc)\n",
    "    if current.minute > 0 or current.second > 0:\n",
    "        # Ceil to next hour\n",
    "        current = current + timedelta(hours=1)\n",
    "\n",
    "    # Reset minutes, seconds, and microseconds\n",
    "    current = current.replace(minute=0, second=0, microsecond=0)\n",
    "    return current\n",
    "\n",
    "# Usage\n",
    "current_hour = get_current_utc_hour_ceiled()\n",
    "print(f\"Current UTC hour (ceiled): {current_hour}\")"
   ]
  },
  {
   "cell_type": "code",
   "execution_count": 18,
   "id": "6471e03d-bd00-4b80-816f-dd6c8008e719",
   "metadata": {},
   "outputs": [],
   "source": [
    "def fetch_predictions():\n",
    "    current_date = pd.Timestamp.now(tz='Etc/UTC').ceil('h')\n",
    "\n",
    "    fs = get_feature_store()\n",
    "    fg = fs.get_feature_group(\n",
    "        name=config.FEATURE_GROUP_MODEL_PREDICTION,\n",
    "        version=1\n",
    "    )\n",
    "\n",
    "    query = fg.select_all()\n",
    "    query = query.filter(fg.pickup_hour == current_hour)\n",
    "\n",
    "    return query.read()"
   ]
  },
  {
   "cell_type": "code",
   "execution_count": 26,
   "id": "2505e6dc-572b-490b-a865-deb6a5253b86",
   "metadata": {},
   "outputs": [
    {
     "name": "stdout",
     "output_type": "stream",
     "text": [
      "✅ Feature group found.\n"
     ]
    }
   ],
   "source": [
    "from hsfs.client.exceptions import RestAPIError\n",
    "\n",
    "try:\n",
    "    fg = fs.get_feature_group(name=config.FEATURE_GROUP_MODEL_PREDICTION, version=1)\n",
    "    print(\"✅ Feature group found.\")\n",
    "except RestAPIError:\n",
    "    print(\"❌ Feature group not found. Check name or create it first.\")\n",
    "    fg = None\n"
   ]
  },
  {
   "cell_type": "code",
   "execution_count": 29,
   "id": "a92f4eca-f1bb-4d3f-b98f-eb1c50b9e28d",
   "metadata": {},
   "outputs": [
    {
     "name": "stdout",
     "output_type": "stream",
     "text": [
      "2025-05-10 07:20:27,350 INFO: Closing external client and cleaning up certificates.\n",
      "Connection closed.\n",
      "2025-05-10 07:20:27,356 INFO: Initializing external client\n",
      "2025-05-10 07:20:27,356 INFO: Base URL: https://c.app.hopsworks.ai:443\n",
      "2025-05-10 07:20:28,081 INFO: Python Engine initialized.\n",
      "\n",
      "Logged in to project, explore it here https://c.app.hopsworks.ai:443/p/1228966\n",
      "✅ Connected to Hopsworks.\n",
      "Finished: Reading data from Hopsworks, using Hopsworks Feature Query Service (0.86s) \n"
     ]
    },
    {
     "data": {
      "image/png": "[encoded data removed]",
      "text/plain": [
       "<Figure size 640x480 with 1 Axes>"
      ]
     },
     "metadata": {},
     "output_type": "display_data"
    },
    {
     "data": {
      "text/html": [
       "<div>\n",
       "<style scoped>\n",
       "    .dataframe tbody tr th:only-of-type {\n",
       "        vertical-align: middle;\n",
       "    }\n",
       "\n",
       "    .dataframe tbody tr th {\n",
       "        vertical-align: top;\n",
       "    }\n",
       "\n",
       "    .dataframe thead th {\n",
       "        text-align: right;\n",
       "    }\n",
       "</style>\n",
       "<table border=\"1\" class=\"dataframe\">\n",
       "  <thead>\n",
       "    <tr style=\"text-align: right;\">\n",
       "      <th></th>\n",
       "      <th>pickup_location_id</th>\n",
       "      <th>pickup_hour</th>\n",
       "      <th>predicted_rides</th>\n",
       "    </tr>\n",
       "  </thead>\n",
       "  <tbody>\n",
       "    <tr>\n",
       "      <th>15189</th>\n",
       "      <td>6948.10</td>\n",
       "      <td>2023-12-31 23:00:00+00:00</td>\n",
       "      <td>5</td>\n",
       "    </tr>\n",
       "    <tr>\n",
       "      <th>24002</th>\n",
       "      <td>6140.05</td>\n",
       "      <td>2023-12-31 23:00:00+00:00</td>\n",
       "      <td>3</td>\n",
       "    </tr>\n",
       "    <tr>\n",
       "      <th>2868</th>\n",
       "      <td>5329.03</td>\n",
       "      <td>2023-12-31 23:00:00+00:00</td>\n",
       "      <td>2</td>\n",
       "    </tr>\n",
       "  </tbody>\n",
       "</table>\n",
       "</div>"
      ],
      "text/plain": [
       "      pickup_location_id               pickup_hour  predicted_rides\n",
       "15189            6948.10 2023-12-31 23:00:00+00:00                5\n",
       "24002            6140.05 2023-12-31 23:00:00+00:00                3\n",
       "2868             5329.03 2023-12-31 23:00:00+00:00                2"
      ]
     },
     "execution_count": 29,
     "metadata": {},
     "output_type": "execute_result"
    }
   ],
   "source": [
    "# 17_fetch_predictions.ipynb\n",
    "\n",
    "import pandas as pd\n",
    "import hopsworks\n",
    "import src.config as config\n",
    "\n",
    "# Step 1: Login to Hopsworks\n",
    "project = hopsworks.login(\n",
    "    project=config.HOPSWORKS_PROJECT_NAME,\n",
    "    api_key_value=config.HOPSWORKS_API_KEY,\n",
    ")\n",
    "fs = project.get_feature_store()\n",
    "print(\"✅ Connected to Hopsworks.\")\n",
    "\n",
    "# Step 2: Access the predictions Feature Group\n",
    "fg = fs.get_feature_group(\n",
    "    name=config.FEATURE_GROUP_MODEL_PREDICTION,\n",
    "    version=config.FEATURE_GROUP_MODEL_PREDICTION_VERSION,\n",
    ")\n",
    "\n",
    "# Step 3: Read recent prediction data\n",
    "df = fg.read()\n",
    "df[\"pickup_hour\"] = pd.to_datetime(df[\"pickup_hour\"])\n",
    "df[\"pickup_location_id\"] = df[\"pickup_location_id\"].astype(str)\n",
    "df[\"predicted_rides\"] = df[\"predicted_rides\"].astype(int)\n",
    "\n",
    "# Step 4: Display the latest predictions\n",
    "latest_hour = df[\"pickup_hour\"].max()\n",
    "recent_preds = df[df[\"pickup_hour\"] == latest_hour].sort_values(\"predicted_rides\", ascending=False)\n",
    "\n",
    "import matplotlib.pyplot as plt\n",
    "\n",
    "# Optional: Quick bar plot\n",
    "recent_preds.plot(\n",
    "    x=\"pickup_location_id\", \n",
    "    y=\"predicted_rides\", \n",
    "    kind=\"bar\", \n",
    "    title=f\"Predicted Citi Bike Rides for {latest_hour}\", \n",
    "    legend=False\n",
    ")\n",
    "plt.ylabel(\"Rides\")\n",
    "plt.xlabel(\"Location ID\")\n",
    "plt.xticks(rotation=45)\n",
    "plt.tight_layout()\n",
    "plt.show()\n",
    "\n",
    "# Display top rows\n",
    "recent_preds.head()\n"
   ]
  },
  {
   "cell_type": "code",
   "execution_count": 32,
   "id": "b12ca464-2d33-4f3e-bee4-8d2db9ca27a7",
   "metadata": {},
   "outputs": [
    {
     "data": {
      "text/html": [
       "<div>\n",
       "<style scoped>\n",
       "    .dataframe tbody tr th:only-of-type {\n",
       "        vertical-align: middle;\n",
       "    }\n",
       "\n",
       "    .dataframe tbody tr th {\n",
       "        vertical-align: top;\n",
       "    }\n",
       "\n",
       "    .dataframe thead th {\n",
       "        text-align: right;\n",
       "    }\n",
       "</style>\n",
       "<table border=\"1\" class=\"dataframe\">\n",
       "  <thead>\n",
       "    <tr style=\"text-align: right;\">\n",
       "      <th></th>\n",
       "      <th>pickup_location_id</th>\n",
       "      <th>pickup_hour</th>\n",
       "      <th>predicted_rides</th>\n",
       "    </tr>\n",
       "  </thead>\n",
       "  <tbody>\n",
       "    <tr>\n",
       "      <th>0</th>\n",
       "      <td>6948.10</td>\n",
       "      <td>2023-11-23 05:00:00+00:00</td>\n",
       "      <td>2</td>\n",
       "    </tr>\n",
       "    <tr>\n",
       "      <th>1</th>\n",
       "      <td>5329.03</td>\n",
       "      <td>2023-04-29 04:00:00+00:00</td>\n",
       "      <td>0</td>\n",
       "    </tr>\n",
       "    <tr>\n",
       "      <th>2</th>\n",
       "      <td>6948.10</td>\n",
       "      <td>2023-06-04 23:00:00+00:00</td>\n",
       "      <td>1</td>\n",
       "    </tr>\n",
       "    <tr>\n",
       "      <th>3</th>\n",
       "      <td>6140.05</td>\n",
       "      <td>2023-02-27 09:00:00+00:00</td>\n",
       "      <td>28</td>\n",
       "    </tr>\n",
       "    <tr>\n",
       "      <th>4</th>\n",
       "      <td>6948.10</td>\n",
       "      <td>2023-09-22 18:00:00+00:00</td>\n",
       "      <td>36</td>\n",
       "    </tr>\n",
       "    <tr>\n",
       "      <th>...</th>\n",
       "      <td>...</td>\n",
       "      <td>...</td>\n",
       "      <td>...</td>\n",
       "    </tr>\n",
       "    <tr>\n",
       "      <th>24514</th>\n",
       "      <td>6140.05</td>\n",
       "      <td>2023-06-19 16:00:00+00:00</td>\n",
       "      <td>43</td>\n",
       "    </tr>\n",
       "    <tr>\n",
       "      <th>24515</th>\n",
       "      <td>5329.03</td>\n",
       "      <td>2023-04-10 05:00:00+00:00</td>\n",
       "      <td>2</td>\n",
       "    </tr>\n",
       "    <tr>\n",
       "      <th>24516</th>\n",
       "      <td>6140.05</td>\n",
       "      <td>2023-12-21 01:00:00+00:00</td>\n",
       "      <td>1</td>\n",
       "    </tr>\n",
       "    <tr>\n",
       "      <th>24517</th>\n",
       "      <td>6948.10</td>\n",
       "      <td>2023-09-13 00:00:00+00:00</td>\n",
       "      <td>5</td>\n",
       "    </tr>\n",
       "    <tr>\n",
       "      <th>24518</th>\n",
       "      <td>6140.05</td>\n",
       "      <td>2023-11-09 10:00:00+00:00</td>\n",
       "      <td>37</td>\n",
       "    </tr>\n",
       "  </tbody>\n",
       "</table>\n",
       "<p>24519 rows × 3 columns</p>\n",
       "</div>"
      ],
      "text/plain": [
       "      pickup_location_id               pickup_hour  predicted_rides\n",
       "0                6948.10 2023-11-23 05:00:00+00:00                2\n",
       "1                5329.03 2023-04-29 04:00:00+00:00                0\n",
       "2                6948.10 2023-06-04 23:00:00+00:00                1\n",
       "3                6140.05 2023-02-27 09:00:00+00:00               28\n",
       "4                6948.10 2023-09-22 18:00:00+00:00               36\n",
       "...                  ...                       ...              ...\n",
       "24514            6140.05 2023-06-19 16:00:00+00:00               43\n",
       "24515            5329.03 2023-04-10 05:00:00+00:00                2\n",
       "24516            6140.05 2023-12-21 01:00:00+00:00                1\n",
       "24517            6948.10 2023-09-13 00:00:00+00:00                5\n",
       "24518            6140.05 2023-11-09 10:00:00+00:00               37\n",
       "\n",
       "[24519 rows x 3 columns]"
      ]
     },
     "execution_count": 32,
     "metadata": {},
     "output_type": "execute_result"
    }
   ],
   "source": [
    "df"
   ]
  },
  {
   "cell_type": "code",
   "execution_count": 33,
   "id": "28d3fcd7-11a8-4ef0-8a9f-ad84101d72d4",
   "metadata": {},
   "outputs": [
    {
     "name": "stdout",
     "output_type": "stream",
     "text": [
      "<class 'pandas.core.frame.DataFrame'>\n",
      "RangeIndex: 24519 entries, 0 to 24518\n",
      "Data columns (total 3 columns):\n",
      " #   Column              Non-Null Count  Dtype                  \n",
      "---  ------              --------------  -----                  \n",
      " 0   pickup_location_id  24519 non-null  object                 \n",
      " 1   pickup_hour         24519 non-null  datetime64[us, Etc/UTC]\n",
      " 2   predicted_rides     24519 non-null  int64                  \n",
      "dtypes: datetime64[us, Etc/UTC](1), int64(1), object(1)\n",
      "memory usage: 574.8+ KB\n"
     ]
    }
   ],
   "source": [
    "df.info()"
   ]
  },
  {
   "cell_type": "code",
   "execution_count": 37,
   "id": "cffc8370-9897-4bfd-854f-889e2ae95410",
   "metadata": {},
   "outputs": [
    {
     "data": {
      "text/plain": [
       "Timestamp('2023-12-31 23:00:00+0000', tz='Etc/UTC')"
      ]
     },
     "execution_count": 37,
     "metadata": {},
     "output_type": "execute_result"
    }
   ],
   "source": [
    "df[\"pickup_hour\"].max()"
   ]
  },
  {
   "cell_type": "code",
   "execution_count": null,
   "id": "74d85f32-9ba1-4ecf-953e-a2cee0417a85",
   "metadata": {},
   "outputs": [],
   "source": []
  }
 ],
 "metadata": {
  "kernelspec": {
   "display_name": "Python 3 (ipykernel)",
   "language": "python",
   "name": "python3"
  },
  "language_info": {
   "codemirror_mode": {
    "name": "ipython",
    "version": 3
   },
   "file_extension": ".py",
   "mimetype": "text/x-python",
   "name": "python",
   "nbconvert_exporter": "python",
   "pygments_lexer": "ipython3",
   "version": "3.12.2"
  }
 },
 "nbformat": 4,
 "nbformat_minor": 5
}
