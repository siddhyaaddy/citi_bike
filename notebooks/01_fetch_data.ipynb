{
 "cells": [
  {
   "cell_type": "code",
   "execution_count": 1,
   "id": "bf484b60-5dd6-4672-be8e-039613ed88bd",
   "metadata": {},
   "outputs": [],
   "source": [
    "from pathlib import Path\n",
    "import requests\n",
    "import pandas as pd\n",
    "import zipfile\n",
    "import io\n",
    "\n",
    "def fetch_raw_data(year: int, month: int) -> str:\n",
    "    url = f\"https://s3.amazonaws.com/tripdata/JC-{year}{month:02}-citibike-tripdata.csv.zip\"\n",
    "    response = requests.get(url)\n",
    "    if response.status_code == 200:\n",
    "        zip_bytes = io.BytesIO(response.content)\n",
    "        with zipfile.ZipFile(zip_bytes, 'r') as zip_ref:\n",
    "            csv_name = zip_ref.namelist()[0]  # There should be only one file inside\n",
    "            df = pd.read_csv(zip_ref.open(csv_name))\n",
    "            path = Path(\"..\") / \"data\" / \"raw\" / f\"rides_{year}_{month:02}.parquet\"\n",
    "            path.parent.mkdir(parents=True, exist_ok=True)\n",
    "            df.to_parquet(path, index=False)\n",
    "            print(f\"Saved: {path}\")\n",
    "            return str(path)\n",
    "    else:\n",
    "        raise Exception(f\"Failed to fetch data from {url}\")\n"
   ]
  },
  {
   "cell_type": "code",
   "execution_count": 13,
   "id": "3c838248-5eac-41e2-80d2-089e044313ab",
   "metadata": {},
   "outputs": [
    {
     "name": "stdout",
     "output_type": "stream",
     "text": [
      "Saved: ../data/raw/rides_2023_12.parquet\n"
     ]
    },
    {
     "data": {
      "text/plain": [
       "'../data/raw/rides_2023_12.parquet'"
      ]
     },
     "execution_count": 13,
     "metadata": {},
     "output_type": "execute_result"
    }
   ],
   "source": [
    "fetch_raw_data(2023, 12)"
   ]
  },
  {
   "cell_type": "code",
   "execution_count": null,
   "id": "e98be757-5819-4535-89b8-c571bde77373",
   "metadata": {},
   "outputs": [],
   "source": []
  }
 ],
 "metadata": {
  "kernelspec": {
   "display_name": "Python 3 (ipykernel)",
   "language": "python",
   "name": "python3"
  },
  "language_info": {
   "codemirror_mode": {
    "name": "ipython",
    "version": 3
   },
   "file_extension": ".py",
   "mimetype": "text/x-python",
   "name": "python",
   "nbconvert_exporter": "python",
   "pygments_lexer": "ipython3",
   "version": "3.12.2"
  }
 },
 "nbformat": 4,
 "nbformat_minor": 5
}
