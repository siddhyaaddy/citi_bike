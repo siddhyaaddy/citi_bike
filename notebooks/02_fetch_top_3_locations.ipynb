{
 "cells": [
  {
   "cell_type": "code",
   "execution_count": 1,
   "id": "f061f9f3-2fd3-4f80-9287-654cc81a0d1c",
   "metadata": {},
   "outputs": [],
   "source": [
    "from IPython.core.interactiveshell import InteractiveShell\n",
    "InteractiveShell.ast_node_interactivity = \"all\""
   ]
  },
  {
   "cell_type": "code",
   "execution_count": 2,
   "id": "26b7656a-71bf-4c69-8514-993114e5623f",
   "metadata": {},
   "outputs": [
    {
     "data": {
      "text/html": [
       "<div>\n",
       "<style scoped>\n",
       "    .dataframe tbody tr th:only-of-type {\n",
       "        vertical-align: middle;\n",
       "    }\n",
       "\n",
       "    .dataframe tbody tr th {\n",
       "        vertical-align: top;\n",
       "    }\n",
       "\n",
       "    .dataframe thead th {\n",
       "        text-align: right;\n",
       "    }\n",
       "</style>\n",
       "<table border=\"1\" class=\"dataframe\">\n",
       "  <thead>\n",
       "    <tr style=\"text-align: right;\">\n",
       "      <th></th>\n",
       "      <th>ride_id</th>\n",
       "      <th>rideable_type</th>\n",
       "      <th>started_at</th>\n",
       "      <th>ended_at</th>\n",
       "      <th>start_station_name</th>\n",
       "      <th>start_station_id</th>\n",
       "      <th>end_station_name</th>\n",
       "      <th>end_station_id</th>\n",
       "      <th>start_lat</th>\n",
       "      <th>start_lng</th>\n",
       "      <th>end_lat</th>\n",
       "      <th>end_lng</th>\n",
       "      <th>member_casual</th>\n",
       "    </tr>\n",
       "  </thead>\n",
       "  <tbody>\n",
       "    <tr>\n",
       "      <th>0</th>\n",
       "      <td>0905B18B365C9D20</td>\n",
       "      <td>classic_bike</td>\n",
       "      <td>2023-01-28 09:18:10</td>\n",
       "      <td>2023-01-28 09:28:52</td>\n",
       "      <td>Hoboken Terminal - Hudson St &amp; Hudson Pl</td>\n",
       "      <td>HB101</td>\n",
       "      <td>Hamilton Park</td>\n",
       "      <td>JC009</td>\n",
       "      <td>40.735938</td>\n",
       "      <td>-74.030305</td>\n",
       "      <td>40.727596</td>\n",
       "      <td>-74.044247</td>\n",
       "      <td>member</td>\n",
       "    </tr>\n",
       "    <tr>\n",
       "      <th>1</th>\n",
       "      <td>B4F0562B05CB5404</td>\n",
       "      <td>electric_bike</td>\n",
       "      <td>2023-01-23 20:10:12</td>\n",
       "      <td>2023-01-23 20:18:27</td>\n",
       "      <td>Hoboken Terminal - Hudson St &amp; Hudson Pl</td>\n",
       "      <td>HB101</td>\n",
       "      <td>Southwest Park - Jackson St &amp; Observer Hwy</td>\n",
       "      <td>HB401</td>\n",
       "      <td>40.735938</td>\n",
       "      <td>-74.030305</td>\n",
       "      <td>40.737551</td>\n",
       "      <td>-74.041664</td>\n",
       "      <td>member</td>\n",
       "    </tr>\n",
       "    <tr>\n",
       "      <th>2</th>\n",
       "      <td>5ABF032895F5D87E</td>\n",
       "      <td>classic_bike</td>\n",
       "      <td>2023-01-29 15:27:04</td>\n",
       "      <td>2023-01-29 15:32:38</td>\n",
       "      <td>Hoboken Terminal - Hudson St &amp; Hudson Pl</td>\n",
       "      <td>HB101</td>\n",
       "      <td>Marshall St &amp; 2 St</td>\n",
       "      <td>HB408</td>\n",
       "      <td>40.735944</td>\n",
       "      <td>-74.030383</td>\n",
       "      <td>40.740802</td>\n",
       "      <td>-74.042521</td>\n",
       "      <td>member</td>\n",
       "    </tr>\n",
       "    <tr>\n",
       "      <th>3</th>\n",
       "      <td>E7E1F9C53976D2F9</td>\n",
       "      <td>classic_bike</td>\n",
       "      <td>2023-01-24 18:35:08</td>\n",
       "      <td>2023-01-24 18:42:13</td>\n",
       "      <td>Hoboken Terminal - Hudson St &amp; Hudson Pl</td>\n",
       "      <td>HB101</td>\n",
       "      <td>Hamilton Park</td>\n",
       "      <td>JC009</td>\n",
       "      <td>40.735986</td>\n",
       "      <td>-74.030364</td>\n",
       "      <td>40.727596</td>\n",
       "      <td>-74.044247</td>\n",
       "      <td>member</td>\n",
       "    </tr>\n",
       "    <tr>\n",
       "      <th>4</th>\n",
       "      <td>323165780CA0734B</td>\n",
       "      <td>classic_bike</td>\n",
       "      <td>2023-01-21 20:44:09</td>\n",
       "      <td>2023-01-21 20:48:08</td>\n",
       "      <td>Hamilton Park</td>\n",
       "      <td>JC009</td>\n",
       "      <td>Manila &amp; 1st</td>\n",
       "      <td>JC082</td>\n",
       "      <td>40.727596</td>\n",
       "      <td>-74.044247</td>\n",
       "      <td>40.721651</td>\n",
       "      <td>-74.042884</td>\n",
       "      <td>member</td>\n",
       "    </tr>\n",
       "  </tbody>\n",
       "</table>\n",
       "</div>"
      ],
      "text/plain": [
       "            ride_id  rideable_type           started_at             ended_at  \\\n",
       "0  0905B18B365C9D20   classic_bike  2023-01-28 09:18:10  2023-01-28 09:28:52   \n",
       "1  B4F0562B05CB5404  electric_bike  2023-01-23 20:10:12  2023-01-23 20:18:27   \n",
       "2  5ABF032895F5D87E   classic_bike  2023-01-29 15:27:04  2023-01-29 15:32:38   \n",
       "3  E7E1F9C53976D2F9   classic_bike  2023-01-24 18:35:08  2023-01-24 18:42:13   \n",
       "4  323165780CA0734B   classic_bike  2023-01-21 20:44:09  2023-01-21 20:48:08   \n",
       "\n",
       "                         start_station_name start_station_id  \\\n",
       "0  Hoboken Terminal - Hudson St & Hudson Pl            HB101   \n",
       "1  Hoboken Terminal - Hudson St & Hudson Pl            HB101   \n",
       "2  Hoboken Terminal - Hudson St & Hudson Pl            HB101   \n",
       "3  Hoboken Terminal - Hudson St & Hudson Pl            HB101   \n",
       "4                             Hamilton Park            JC009   \n",
       "\n",
       "                             end_station_name end_station_id  start_lat  \\\n",
       "0                               Hamilton Park          JC009  40.735938   \n",
       "1  Southwest Park - Jackson St & Observer Hwy          HB401  40.735938   \n",
       "2                          Marshall St & 2 St          HB408  40.735944   \n",
       "3                               Hamilton Park          JC009  40.735986   \n",
       "4                                Manila & 1st          JC082  40.727596   \n",
       "\n",
       "   start_lng    end_lat    end_lng member_casual  \n",
       "0 -74.030305  40.727596 -74.044247        member  \n",
       "1 -74.030305  40.737551 -74.041664        member  \n",
       "2 -74.030383  40.740802 -74.042521        member  \n",
       "3 -74.030364  40.727596 -74.044247        member  \n",
       "4 -74.044247  40.721651 -74.042884        member  "
      ]
     },
     "execution_count": 2,
     "metadata": {},
     "output_type": "execute_result"
    }
   ],
   "source": [
    "from pathlib import Path\n",
    "import pandas as pd\n",
    "\n",
    "month = 1\n",
    "year = 2023\n",
    "path = Path(\"..\") / \"data\" / \"raw\" / f\"rides_{year}_{month:02}.parquet\"\n",
    "\n",
    "rides = pd.read_parquet(path)\n",
    "rides.head()\n"
   ]
  },
  {
   "cell_type": "code",
   "execution_count": 3,
   "id": "2fccc611-699f-4f52-86f8-02de80a42631",
   "metadata": {},
   "outputs": [
    {
     "data": {
      "text/html": [
       "<div>\n",
       "<style scoped>\n",
       "    .dataframe tbody tr th:only-of-type {\n",
       "        vertical-align: middle;\n",
       "    }\n",
       "\n",
       "    .dataframe tbody tr th {\n",
       "        vertical-align: top;\n",
       "    }\n",
       "\n",
       "    .dataframe thead th {\n",
       "        text-align: right;\n",
       "    }\n",
       "</style>\n",
       "<table border=\"1\" class=\"dataframe\">\n",
       "  <thead>\n",
       "    <tr style=\"text-align: right;\">\n",
       "      <th></th>\n",
       "      <th>ride_id</th>\n",
       "      <th>rideable_type</th>\n",
       "      <th>started_at</th>\n",
       "      <th>ended_at</th>\n",
       "      <th>start_station_name</th>\n",
       "      <th>start_station_id</th>\n",
       "      <th>end_station_name</th>\n",
       "      <th>end_station_id</th>\n",
       "      <th>start_lat</th>\n",
       "      <th>start_lng</th>\n",
       "      <th>end_lat</th>\n",
       "      <th>end_lng</th>\n",
       "      <th>member_casual</th>\n",
       "      <th>duration</th>\n",
       "    </tr>\n",
       "  </thead>\n",
       "  <tbody>\n",
       "    <tr>\n",
       "      <th>0</th>\n",
       "      <td>0905B18B365C9D20</td>\n",
       "      <td>classic_bike</td>\n",
       "      <td>2023-01-28 09:18:10</td>\n",
       "      <td>2023-01-28 09:28:52</td>\n",
       "      <td>Hoboken Terminal - Hudson St &amp; Hudson Pl</td>\n",
       "      <td>HB101</td>\n",
       "      <td>Hamilton Park</td>\n",
       "      <td>JC009</td>\n",
       "      <td>40.735938</td>\n",
       "      <td>-74.030305</td>\n",
       "      <td>40.727596</td>\n",
       "      <td>-74.044247</td>\n",
       "      <td>member</td>\n",
       "      <td>0 days 00:10:42</td>\n",
       "    </tr>\n",
       "    <tr>\n",
       "      <th>1</th>\n",
       "      <td>B4F0562B05CB5404</td>\n",
       "      <td>electric_bike</td>\n",
       "      <td>2023-01-23 20:10:12</td>\n",
       "      <td>2023-01-23 20:18:27</td>\n",
       "      <td>Hoboken Terminal - Hudson St &amp; Hudson Pl</td>\n",
       "      <td>HB101</td>\n",
       "      <td>Southwest Park - Jackson St &amp; Observer Hwy</td>\n",
       "      <td>HB401</td>\n",
       "      <td>40.735938</td>\n",
       "      <td>-74.030305</td>\n",
       "      <td>40.737551</td>\n",
       "      <td>-74.041664</td>\n",
       "      <td>member</td>\n",
       "      <td>0 days 00:08:15</td>\n",
       "    </tr>\n",
       "    <tr>\n",
       "      <th>2</th>\n",
       "      <td>5ABF032895F5D87E</td>\n",
       "      <td>classic_bike</td>\n",
       "      <td>2023-01-29 15:27:04</td>\n",
       "      <td>2023-01-29 15:32:38</td>\n",
       "      <td>Hoboken Terminal - Hudson St &amp; Hudson Pl</td>\n",
       "      <td>HB101</td>\n",
       "      <td>Marshall St &amp; 2 St</td>\n",
       "      <td>HB408</td>\n",
       "      <td>40.735944</td>\n",
       "      <td>-74.030383</td>\n",
       "      <td>40.740802</td>\n",
       "      <td>-74.042521</td>\n",
       "      <td>member</td>\n",
       "      <td>0 days 00:05:34</td>\n",
       "    </tr>\n",
       "    <tr>\n",
       "      <th>3</th>\n",
       "      <td>E7E1F9C53976D2F9</td>\n",
       "      <td>classic_bike</td>\n",
       "      <td>2023-01-24 18:35:08</td>\n",
       "      <td>2023-01-24 18:42:13</td>\n",
       "      <td>Hoboken Terminal - Hudson St &amp; Hudson Pl</td>\n",
       "      <td>HB101</td>\n",
       "      <td>Hamilton Park</td>\n",
       "      <td>JC009</td>\n",
       "      <td>40.735986</td>\n",
       "      <td>-74.030364</td>\n",
       "      <td>40.727596</td>\n",
       "      <td>-74.044247</td>\n",
       "      <td>member</td>\n",
       "      <td>0 days 00:07:05</td>\n",
       "    </tr>\n",
       "    <tr>\n",
       "      <th>4</th>\n",
       "      <td>323165780CA0734B</td>\n",
       "      <td>classic_bike</td>\n",
       "      <td>2023-01-21 20:44:09</td>\n",
       "      <td>2023-01-21 20:48:08</td>\n",
       "      <td>Hamilton Park</td>\n",
       "      <td>JC009</td>\n",
       "      <td>Manila &amp; 1st</td>\n",
       "      <td>JC082</td>\n",
       "      <td>40.727596</td>\n",
       "      <td>-74.044247</td>\n",
       "      <td>40.721651</td>\n",
       "      <td>-74.042884</td>\n",
       "      <td>member</td>\n",
       "      <td>0 days 00:03:59</td>\n",
       "    </tr>\n",
       "  </tbody>\n",
       "</table>\n",
       "</div>"
      ],
      "text/plain": [
       "            ride_id  rideable_type          started_at            ended_at  \\\n",
       "0  0905B18B365C9D20   classic_bike 2023-01-28 09:18:10 2023-01-28 09:28:52   \n",
       "1  B4F0562B05CB5404  electric_bike 2023-01-23 20:10:12 2023-01-23 20:18:27   \n",
       "2  5ABF032895F5D87E   classic_bike 2023-01-29 15:27:04 2023-01-29 15:32:38   \n",
       "3  E7E1F9C53976D2F9   classic_bike 2023-01-24 18:35:08 2023-01-24 18:42:13   \n",
       "4  323165780CA0734B   classic_bike 2023-01-21 20:44:09 2023-01-21 20:48:08   \n",
       "\n",
       "                         start_station_name start_station_id  \\\n",
       "0  Hoboken Terminal - Hudson St & Hudson Pl            HB101   \n",
       "1  Hoboken Terminal - Hudson St & Hudson Pl            HB101   \n",
       "2  Hoboken Terminal - Hudson St & Hudson Pl            HB101   \n",
       "3  Hoboken Terminal - Hudson St & Hudson Pl            HB101   \n",
       "4                             Hamilton Park            JC009   \n",
       "\n",
       "                             end_station_name end_station_id  start_lat  \\\n",
       "0                               Hamilton Park          JC009  40.735938   \n",
       "1  Southwest Park - Jackson St & Observer Hwy          HB401  40.735938   \n",
       "2                          Marshall St & 2 St          HB408  40.735944   \n",
       "3                               Hamilton Park          JC009  40.735986   \n",
       "4                                Manila & 1st          JC082  40.727596   \n",
       "\n",
       "   start_lng    end_lat    end_lng member_casual        duration  \n",
       "0 -74.030305  40.727596 -74.044247        member 0 days 00:10:42  \n",
       "1 -74.030305  40.737551 -74.041664        member 0 days 00:08:15  \n",
       "2 -74.030383  40.740802 -74.042521        member 0 days 00:05:34  \n",
       "3 -74.030364  40.727596 -74.044247        member 0 days 00:07:05  \n",
       "4 -74.044247  40.721651 -74.042884        member 0 days 00:03:59  "
      ]
     },
     "execution_count": 3,
     "metadata": {},
     "output_type": "execute_result"
    }
   ],
   "source": [
    "rides_cp = rides.copy()\n",
    "rides_cp[\"started_at\"] = pd.to_datetime(rides_cp[\"started_at\"])\n",
    "rides_cp[\"ended_at\"] = pd.to_datetime(rides_cp[\"ended_at\"])\n",
    "rides_cp[\"duration\"] = rides_cp[\"ended_at\"] - rides_cp[\"started_at\"]\n",
    "rides_cp.head()\n"
   ]
  },
  {
   "cell_type": "code",
   "execution_count": 4,
   "id": "da6ea734-053c-42b8-b516-99d21cc9b9dd",
   "metadata": {},
   "outputs": [
    {
     "data": {
      "text/plain": [
       "count                        56075\n",
       "mean     0 days 00:11:47.619580918\n",
       "std      0 days 01:08:03.871820543\n",
       "min                0 days 00:00:00\n",
       "25%                0 days 00:03:51\n",
       "50%                0 days 00:05:52\n",
       "75%                0 days 00:09:02\n",
       "max                3 days 03:38:17\n",
       "Name: duration, dtype: object"
      ]
     },
     "execution_count": 4,
     "metadata": {},
     "output_type": "execute_result"
    }
   ],
   "source": [
    "rides_cp[\"duration\"].describe()"
   ]
  },
  {
   "cell_type": "code",
   "execution_count": 5,
   "id": "05b639bf-7733-4630-87f4-983b6140e7d6",
   "metadata": {},
   "outputs": [
    {
     "data": {
      "text/plain": [
       "Timedelta('0 days 00:00:00')"
      ]
     },
     "execution_count": 5,
     "metadata": {},
     "output_type": "execute_result"
    },
    {
     "data": {
      "text/plain": [
       "Timedelta('0 days 00:00:19')"
      ]
     },
     "execution_count": 5,
     "metadata": {},
     "output_type": "execute_result"
    },
    {
     "data": {
      "text/plain": [
       "Timedelta('0 days 01:47:45.519999999')"
      ]
     },
     "execution_count": 5,
     "metadata": {},
     "output_type": "execute_result"
    },
    {
     "data": {
      "text/plain": [
       "Timedelta('1 days 00:59:39.926000')"
      ]
     },
     "execution_count": 5,
     "metadata": {},
     "output_type": "execute_result"
    }
   ],
   "source": [
    "rides_cp[\"duration\"].quantile(0)\n",
    "rides_cp[\"duration\"].quantile(0.01)\n",
    "rides_cp[\"duration\"].quantile(0.995)\n",
    "rides_cp[\"duration\"].quantile(0.999)"
   ]
  },
  {
   "cell_type": "code",
   "execution_count": 6,
   "id": "038541f4-a657-4f20-96d1-646fe61320fd",
   "metadata": {},
   "outputs": [
    {
     "data": {
      "text/plain": [
       "1849"
      ]
     },
     "execution_count": 6,
     "metadata": {},
     "output_type": "execute_result"
    }
   ],
   "source": [
    "duration_filter = (\n",
    "    (rides_cp[\"duration\"] > pd.Timedelta(minutes=1)) &\n",
    "    (rides_cp[\"duration\"] <= pd.Timedelta(hours=3))\n",
    ")\n",
    "sum(~duration_filter)"
   ]
  },
  {
   "cell_type": "code",
   "execution_count": 7,
   "id": "ff55ffa9-4516-474d-bf6a-33bd2bf68c01",
   "metadata": {},
   "outputs": [
    {
     "data": {
      "text/plain": [
       "202"
      ]
     },
     "execution_count": 7,
     "metadata": {},
     "output_type": "execute_result"
    }
   ],
   "source": [
    "location_filter = (\n",
    "    rides_cp[\"start_station_id\"].notna() &\n",
    "    rides_cp[\"end_station_id\"].notna()\n",
    ")\n",
    "sum(~location_filter)\n"
   ]
  },
  {
   "cell_type": "code",
   "execution_count": 8,
   "id": "6c910af9-2577-4370-a040-dac5068b3be9",
   "metadata": {},
   "outputs": [
    {
     "data": {
      "text/plain": [
       "0"
      ]
     },
     "execution_count": 8,
     "metadata": {},
     "output_type": "execute_result"
    }
   ],
   "source": [
    "filter_date_range = (\n",
    "    (rides_cp[\"started_at\"] >= \"2023-01-01\") & \n",
    "    (rides_cp[\"started_at\"] < \"2023-02-01\")\n",
    ")\n",
    "sum(~filter_date_range)\n"
   ]
  },
  {
   "cell_type": "code",
   "execution_count": 9,
   "id": "b80b9680-5db4-4a2b-b2e7-a6cf10b618c9",
   "metadata": {},
   "outputs": [
    {
     "name": "stdout",
     "output_type": "stream",
     "text": [
      "Dropped rows: 1966\n",
      "Dropped %: 3.50601872492198\n"
     ]
    }
   ],
   "source": [
    "final_filter = duration_filter & location_filter & filter_date_range\n",
    "numbers_dropped = rides_cp.shape[0] - sum(final_filter)\n",
    "print(\"Dropped rows:\", numbers_dropped)\n",
    "print(\"Dropped %:\", numbers_dropped / rides_cp.shape[0] * 100)\n"
   ]
  },
  {
   "cell_type": "code",
   "execution_count": 10,
   "id": "56f939e6-ed41-4db7-8688-0fbf14abb9d1",
   "metadata": {},
   "outputs": [
    {
     "data": {
      "text/html": [
       "<div>\n",
       "<style scoped>\n",
       "    .dataframe tbody tr th:only-of-type {\n",
       "        vertical-align: middle;\n",
       "    }\n",
       "\n",
       "    .dataframe tbody tr th {\n",
       "        vertical-align: top;\n",
       "    }\n",
       "\n",
       "    .dataframe thead th {\n",
       "        text-align: right;\n",
       "    }\n",
       "</style>\n",
       "<table border=\"1\" class=\"dataframe\">\n",
       "  <thead>\n",
       "    <tr style=\"text-align: right;\">\n",
       "      <th></th>\n",
       "      <th>pickup_datetime</th>\n",
       "      <th>pickup_location_id</th>\n",
       "    </tr>\n",
       "  </thead>\n",
       "  <tbody>\n",
       "    <tr>\n",
       "      <th>0</th>\n",
       "      <td>2023-01-28 09:18:10</td>\n",
       "      <td>HB101</td>\n",
       "    </tr>\n",
       "    <tr>\n",
       "      <th>1</th>\n",
       "      <td>2023-01-23 20:10:12</td>\n",
       "      <td>HB101</td>\n",
       "    </tr>\n",
       "    <tr>\n",
       "      <th>2</th>\n",
       "      <td>2023-01-29 15:27:04</td>\n",
       "      <td>HB101</td>\n",
       "    </tr>\n",
       "    <tr>\n",
       "      <th>3</th>\n",
       "      <td>2023-01-24 18:35:08</td>\n",
       "      <td>HB101</td>\n",
       "    </tr>\n",
       "    <tr>\n",
       "      <th>4</th>\n",
       "      <td>2023-01-21 20:44:09</td>\n",
       "      <td>JC009</td>\n",
       "    </tr>\n",
       "  </tbody>\n",
       "</table>\n",
       "</div>"
      ],
      "text/plain": [
       "      pickup_datetime pickup_location_id\n",
       "0 2023-01-28 09:18:10              HB101\n",
       "1 2023-01-23 20:10:12              HB101\n",
       "2 2023-01-29 15:27:04              HB101\n",
       "3 2023-01-24 18:35:08              HB101\n",
       "4 2023-01-21 20:44:09              JC009"
      ]
     },
     "execution_count": 10,
     "metadata": {},
     "output_type": "execute_result"
    }
   ],
   "source": [
    "rides = rides_cp[final_filter]\n",
    "rides = rides[[\"started_at\", \"start_station_id\"]]\n",
    "rides.rename(columns={\n",
    "    \"started_at\": \"pickup_datetime\",\n",
    "    \"start_station_id\": \"pickup_location_id\"\n",
    "}, inplace=True)\n",
    "rides.head()\n"
   ]
  },
  {
   "cell_type": "code",
   "execution_count": 11,
   "id": "1f209b09-8861-42a7-b481-88a12bb6cf6b",
   "metadata": {},
   "outputs": [
    {
     "name": "stdout",
     "output_type": "stream",
     "text": [
      "Top 3 locations: ['JC115', 'HB102', 'HB103']\n"
     ]
    },
    {
     "data": {
      "text/html": [
       "<div>\n",
       "<style scoped>\n",
       "    .dataframe tbody tr th:only-of-type {\n",
       "        vertical-align: middle;\n",
       "    }\n",
       "\n",
       "    .dataframe tbody tr th {\n",
       "        vertical-align: top;\n",
       "    }\n",
       "\n",
       "    .dataframe thead th {\n",
       "        text-align: right;\n",
       "    }\n",
       "</style>\n",
       "<table border=\"1\" class=\"dataframe\">\n",
       "  <thead>\n",
       "    <tr style=\"text-align: right;\">\n",
       "      <th></th>\n",
       "      <th>pickup_datetime</th>\n",
       "      <th>pickup_location_id</th>\n",
       "    </tr>\n",
       "  </thead>\n",
       "  <tbody>\n",
       "    <tr>\n",
       "      <th>3546</th>\n",
       "      <td>2023-01-13 09:22:36</td>\n",
       "      <td>JC115</td>\n",
       "    </tr>\n",
       "    <tr>\n",
       "      <th>3946</th>\n",
       "      <td>2023-01-02 11:26:33</td>\n",
       "      <td>JC115</td>\n",
       "    </tr>\n",
       "    <tr>\n",
       "      <th>3947</th>\n",
       "      <td>2023-01-09 10:11:56</td>\n",
       "      <td>JC115</td>\n",
       "    </tr>\n",
       "    <tr>\n",
       "      <th>3948</th>\n",
       "      <td>2023-01-23 19:37:41</td>\n",
       "      <td>JC115</td>\n",
       "    </tr>\n",
       "    <tr>\n",
       "      <th>4017</th>\n",
       "      <td>2023-01-30 18:55:06</td>\n",
       "      <td>JC115</td>\n",
       "    </tr>\n",
       "  </tbody>\n",
       "</table>\n",
       "</div>"
      ],
      "text/plain": [
       "         pickup_datetime pickup_location_id\n",
       "3546 2023-01-13 09:22:36              JC115\n",
       "3946 2023-01-02 11:26:33              JC115\n",
       "3947 2023-01-09 10:11:56              JC115\n",
       "3948 2023-01-23 19:37:41              JC115\n",
       "4017 2023-01-30 18:55:06              JC115"
      ]
     },
     "execution_count": 11,
     "metadata": {},
     "output_type": "execute_result"
    },
    {
     "data": {
      "text/plain": [
       "(7246, 2)"
      ]
     },
     "execution_count": 11,
     "metadata": {},
     "output_type": "execute_result"
    }
   ],
   "source": [
    "top_locations = rides[\"pickup_location_id\"].value_counts().nlargest(3).index.tolist()\n",
    "rides = rides[rides[\"pickup_location_id\"].isin(top_locations)]\n",
    "print(\"Top 3 locations:\", top_locations)\n",
    "rides.head()\n",
    "rides.shape\n"
   ]
  },
  {
   "cell_type": "code",
   "execution_count": 12,
   "id": "62466441-f0e8-48e0-a2df-baf5ed0a2a2f",
   "metadata": {},
   "outputs": [
    {
     "name": "stdout",
     "output_type": "stream",
     "text": [
      "Saved: ../data/processed/rides_2023_01.parquet\n"
     ]
    }
   ],
   "source": [
    "year = 2023\n",
    "month = 1\n",
    "path = Path(\"..\") / \"data\" / \"processed\" / f\"rides_{year}_{month:02}.parquet\"\n",
    "path.parent.mkdir(parents=True, exist_ok=True)\n",
    "rides.to_parquet(path, engine=\"pyarrow\", index=False)\n",
    "print(f\"Saved: {path}\")\n"
   ]
  },
  {
   "cell_type": "code",
   "execution_count": null,
   "id": "4e135fbb-a5ce-4e57-922d-ee1cf23068b4",
   "metadata": {},
   "outputs": [],
   "source": []
  }
 ],
 "metadata": {
  "kernelspec": {
   "display_name": "Python 3 (ipykernel)",
   "language": "python",
   "name": "python3"
  },
  "language_info": {
   "codemirror_mode": {
    "name": "ipython",
    "version": 3
   },
   "file_extension": ".py",
   "mimetype": "text/x-python",
   "name": "python",
   "nbconvert_exporter": "python",
   "pygments_lexer": "ipython3",
   "version": "3.12.2"
  }
 },
 "nbformat": 4,
 "nbformat_minor": 5
}
