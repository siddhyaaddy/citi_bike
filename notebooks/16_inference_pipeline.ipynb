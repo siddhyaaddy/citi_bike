{
 "cells": [
  {
   "cell_type": "code",
   "execution_count": 1,
   "id": "cc080774-f41a-4503-a064-c0ac819eeb99",
   "metadata": {},
   "outputs": [],
   "source": [
    "# Reg fetch new batch of features and compute predictions and save to feature store\n",
    "# "
   ]
  },
  {
   "cell_type": "code",
   "execution_count": 2,
   "id": "4bd038bf-8550-420b-9ec2-308198fca80f",
   "metadata": {},
   "outputs": [],
   "source": [
    "%load_ext autoreload\n",
    "%autoreload 2\n",
    "\n",
    "import sys\n",
    "import os\n",
    "from datetime import timedelta\n",
    "import pandas as pd\n",
    "\n",
    "# Add src directory to path\n",
    "sys.path.append(os.path.abspath(os.path.join(os.getcwd(), \"..\")))\n",
    "\n",
    "import src.config as config\n",
    "from src.inference import get_feature_store\n"
   ]
  },
  {
   "cell_type": "code",
   "execution_count": 3,
   "id": "46b8ae0d-58dd-4772-8931-25ff5fccb749",
   "metadata": {},
   "outputs": [],
   "source": [
    "# Step 1: Setup and Imports\n",
    "import pandas as pd\n",
    "import datetime\n",
    "import requests\n",
    "import hopsworks\n",
    "from src.inference import (\n",
    "    get_feature_store,\n",
    "    get_model_predictions,\n",
    "    load_model_from_registry,\n",
    "    transform_ts_data_info_features\n",
    ")\n",
    "import src.config as config"
   ]
  },
  {
   "cell_type": "code",
   "execution_count": 4,
   "id": "26612685-265e-4415-a149-5751be8f994d",
   "metadata": {},
   "outputs": [
    {
     "name": "stdout",
     "output_type": "stream",
     "text": [
      "🔐 Connecting to Hopsworks...\n",
      "2025-05-10 06:38:12,045 INFO: Initializing external client\n",
      "2025-05-10 06:38:12,046 INFO: Base URL: https://c.app.hopsworks.ai:443\n",
      "2025-05-10 06:38:12,876 INFO: Python Engine initialized.\n",
      "\n",
      "Logged in to project, explore it here https://c.app.hopsworks.ai:443/p/1228966\n"
     ]
    }
   ],
   "source": [
    "# Step 2: Connect to Hopsworks\n",
    "print(\"🔐 Connecting to Hopsworks...\")\n",
    "fs = get_feature_store()"
   ]
  },
  {
   "cell_type": "code",
   "execution_count": 5,
   "id": "22253dce-140a-4296-a48b-35c6c7655b90",
   "metadata": {},
   "outputs": [
    {
     "name": "stdout",
     "output_type": "stream",
     "text": [
      "📦 Loading latest model...\n",
      "2025-05-10 06:38:13,632 INFO: Closing external client and cleaning up certificates.\n",
      "Connection closed.\n",
      "2025-05-10 06:38:13,634 INFO: Initializing external client\n",
      "2025-05-10 06:38:13,634 INFO: Base URL: https://c.app.hopsworks.ai:443\n",
      "2025-05-10 06:38:14,234 INFO: Python Engine initialized.\n",
      "\n",
      "Logged in to project, explore it here https://c.app.hopsworks.ai:443/p/1228966\n"
     ]
    },
    {
     "data": {
      "application/vnd.jupyter.widget-view+json": {
       "model_id": "4f7f7d2ffd15407ab5bae81b56e942dd",
       "version_major": 2,
       "version_minor": 0
      },
      "text/plain": [
       "Downloading: 0.000%|          | 0/403768 elapsed<00:00 remaining<?"
      ]
     },
     "metadata": {},
     "output_type": "display_data"
    },
    {
     "name": "stdout",
     "output_type": "stream",
     "text": [
      "Downloading model artifact (0 dirs, 1 files)... DONE\r"
     ]
    }
   ],
   "source": [
    "# Step 3: Load Model from Registry\n",
    "print(\"📦 Loading latest model...\")\n",
    "model = load_model_from_registry()"
   ]
  },
  {
   "cell_type": "code",
   "execution_count": 6,
   "id": "b868f801-03a3-4d51-8e24-88231e664f29",
   "metadata": {},
   "outputs": [
    {
     "name": "stdout",
     "output_type": "stream",
     "text": [
      "📡 Fetching recent time-series features...\n"
     ]
    }
   ],
   "source": [
    "# Step 4: Retrieve Recent Feature Data\n",
    "print(\"📡 Fetching recent time-series features...\")\n",
    "fv = fs.get_feature_view(name=config.FEATURE_VIEW_NAME, version=config.FEATURE_VIEW_VERSION)\n"
   ]
  },
  {
   "cell_type": "code",
   "execution_count": 7,
   "id": "751d63ab-8e98-4087-a3cf-d79bd1bd88e5",
   "metadata": {},
   "outputs": [
    {
     "name": "stdout",
     "output_type": "stream",
     "text": [
      "Finished: Reading data from Hopsworks, using Hopsworks Feature Query Service (0.71s) \n"
     ]
    }
   ],
   "source": [
    "# Compute fetch bounds\n",
    "latest_hour = fv.get_batch_data().pickup_hour.max()\n",
    "window_size = 24 * 28\n",
    "fetch_from  = latest_hour - pd.Timedelta(hours=window_size + 1)\n",
    "fetch_to    = latest_hour"
   ]
  },
  {
   "cell_type": "code",
   "execution_count": 8,
   "id": "16f14357-ce17-45a8-a6dc-ad4b388dca17",
   "metadata": {},
   "outputs": [
    {
     "name": "stdout",
     "output_type": "stream",
     "text": [
      "Finished: Reading data from Hopsworks, using Hopsworks Feature Query Service (0.54s) \n"
     ]
    }
   ],
   "source": [
    "# Pull feature data\n",
    "ts = fv.get_batch_data(start_time=fetch_from, end_time=fetch_to)\n",
    "ts = ts.loc[lambda df: df.pickup_hour.between(fetch_from, fetch_to)].sort_values([\"pickup_location_id\", \"pickup_hour\"])\n"
   ]
  },
  {
   "cell_type": "code",
   "execution_count": 9,
   "id": "163a288d-acad-4cbc-8386-2dbc5864b63d",
   "metadata": {},
   "outputs": [],
   "source": [
    "# Step 5: Prepare Inference Data\n",
    "features = transform_ts_data_info_features(ts, feature_col=\"rides\", window_size=window_size, step_size=1)\n",
    "features[\"target\"] = 0  # dummy target for pipeline"
   ]
  },
  {
   "cell_type": "code",
   "execution_count": 12,
   "id": "769b5feb-8b5a-4398-8cdc-2d3c09673e9c",
   "metadata": {},
   "outputs": [
    {
     "name": "stdout",
     "output_type": "stream",
     "text": [
      "  pickup_location_id  predicted_rides               pickup_hour\n",
      "0            5329.03                6 2024-01-01 00:00:00+00:00\n",
      "1            6140.05                4 2024-01-01 00:00:00+00:00\n",
      "2            6948.10               10 2024-01-01 00:00:00+00:00\n"
     ]
    }
   ],
   "source": [
    "# Step 6: Make Prediction\n",
    "pred_df = get_model_predictions(model, features)\n",
    "pred_df = pred_df.rename(columns={\"predicted_demand\": \"predicted_rides\"})\n",
    "pred_df[\"pickup_hour\"] = latest_hour + pd.Timedelta(hours=1)\n",
    "print(pred_df.head())"
   ]
  },
  {
   "cell_type": "code",
   "execution_count": 15,
   "id": "bafb3d9f-cb4e-427a-9c21-0d2690074158",
   "metadata": {},
   "outputs": [],
   "source": [
    "# response = requests.post(POST_ENDPOINT, json=pred_df.to_dict(orient=\"records\"))\n",
    "# if response.status_code == 200:\n",
    "#     print(\"✅ Prediction sent successfully!\")\n",
    "\n"
   ]
  },
  {
   "cell_type": "code",
   "execution_count": 16,
   "id": "b141933e-6510-42d2-b703-e72441d49a93",
   "metadata": {},
   "outputs": [
    {
     "name": "stdout",
     "output_type": "stream",
     "text": [
      "✅ Prediction saved to latest_prediction.csv\n"
     ]
    }
   ],
   "source": [
    "pred_df.to_csv(\"latest_prediction.csv\", index=False)\n",
    "print(\"✅ Prediction saved to latest_prediction.csv\")\n"
   ]
  },
  {
   "cell_type": "code",
   "execution_count": null,
   "id": "d8e5d9cb-950c-43cd-8062-32c174c6eed4",
   "metadata": {},
   "outputs": [],
   "source": []
  }
 ],
 "metadata": {
  "kernelspec": {
   "display_name": "Python 3 (ipykernel)",
   "language": "python",
   "name": "python3"
  },
  "language_info": {
   "codemirror_mode": {
    "name": "ipython",
    "version": 3
   },
   "file_extension": ".py",
   "mimetype": "text/x-python",
   "name": "python",
   "nbconvert_exporter": "python",
   "pygments_lexer": "ipython3",
   "version": "3.12.2"
  }
 },
 "nbformat": 4,
 "nbformat_minor": 5
}
